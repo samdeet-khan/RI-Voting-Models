{
 "cells": [
  {
   "cell_type": "code",
   "execution_count": 12,
   "metadata": {},
   "outputs": [
    {
     "name": "stdout",
     "output_type": "stream",
     "text": [
      "Data loaded successfully.\n",
      "Header row removed.\n",
      "Missing values handled.\n",
      "Ward encoding complete.\n",
      "Age encoding complete.\n",
      "Gender encoding complete.\n",
      "Marital Status encoding complete.\n",
      "Ethnicity encoding complete.\n",
      "Religion encoding complete.\n",
      "Data cleaning complete. Saved as 'C:\\Users\\headl\\Documents\\EVC\\RI-Voting-Models\\raw_data\\cleaned_survey_data.csv'\n"
     ]
    }
   ],
   "source": [
    "def clean_survey_data(file_path):\n",
    "    # Load dataset\n",
    "    try:\n",
    "        df = pd.read_csv(file_path)\n",
    "        print(\"Data loaded successfully.\")\n",
    "        \n",
    "        # Remove the header row that contains question text\n",
    "        df = df.iloc[1:]\n",
    "        print(\"Header row removed.\")\n",
    "        \n",
    "    except FileNotFoundError:\n",
    "        print(f\"File not found: {file_path}\")\n",
    "        return\n",
    "    except Exception as e:\n",
    "        print(f\"Error loading data: {e}\")\n",
    "        return\n",
    "    \n",
    "    # Handling missing values\n",
    "    df.fillna(\"Unknown\", inplace=True)\n",
    "    print(\"Missing values handled.\")\n",
    "    \n",
    "    # Q1: Ward (One-Hot Encoding)\n",
    "    ward_columns = [\"Ward_1\", \"Ward_3\", \"Ward_5\", \"Ward_6\", \"Ward_7\", \"Ward_8\", \"Ward_9\", \"Ward_11\", \"Ward_12\", \"Ward_14\", \"Ward_15\"]\n",
    "    df = pd.get_dummies(df, columns=[\"Q1\"], prefix=\"Ward\").reindex(columns=df.columns.tolist() + ward_columns, fill_value=0)\n",
    "    print(\"Ward encoding complete.\")\n",
    "    \n",
    "    # Q2: Age (Ordinal Encoding)\n",
    "    age_mapping = {\"18-24\": 1, \"25-29\": 2, \"30-39\": 3, \"40-49\": 4, \"50-64\": 5, \"65 or older\": 6}\n",
    "    df[\"Q2\"] = df[\"Q2\"].map(age_mapping).fillna(0)\n",
    "    print(\"Age encoding complete.\")\n",
    "    \n",
    "    # Q3: Gender ID (One-Hot Encoding)\n",
    "    df = pd.get_dummies(df, columns=[\"Q3\"], prefix=\"Gender\")\n",
    "    print(\"Gender encoding complete.\")\n",
    "    \n",
    "    # Q4: Marital Status (Binary Encoding)\n",
    "    df[\"Q4\"] = df[\"Q4\"].map({\"Married\": 1, \"Not married\": 0}).fillna(0)\n",
    "    print(\"Marital Status encoding complete.\")\n",
    "    \n",
    "    # Q5: Ethnicity (Multi-Hot Encoding)\n",
    "    ethnicity_columns = [\"White\", \"Black or African American\", \"Hispanic or Latino/a\", \"Asian\", \"American Indian or Alaska Native\", \"Native Hawaiian or Pacific Islander\", \"Other\"]\n",
    "    for col in ethnicity_columns:\n",
    "        df[col] = df[\"Q5\"].apply(lambda x: 1 if col in str(x) else 0)\n",
    "    df.drop(columns=[\"Q5\"], inplace=True)\n",
    "    print(\"Ethnicity encoding complete.\")\n",
    "    \n",
    "    # Q6: Religion (One-Hot Encoding)\n",
    "    df = pd.get_dummies(df, columns=[\"Q6\"], prefix=\"Religion\")\n",
    "    print(\"Religion encoding complete.\")\n",
    "    \n",
    "    # Save cleaned data\n",
    "    output_path = file_path.replace(\"survey_data.csv\", \"cleaned_survey_data.csv\")\n",
    "    df.to_csv(output_path, index=False)\n",
    "    print(f\"Data cleaning complete. Saved as '{output_path}'\")\n",
    "\n",
    "# Example usage\n",
    "clean_survey_data(r\"C:\\Users\\headl\\Documents\\EVC\\RI-Voting-Models\\raw_data\\survey_data.csv\")"
   ]
  }
 ],
 "metadata": {
  "kernelspec": {
   "display_name": "ri_voting",
   "language": "python",
   "name": "python3"
  },
  "language_info": {
   "codemirror_mode": {
    "name": "ipython",
    "version": 3
   },
   "file_extension": ".py",
   "mimetype": "text/x-python",
   "name": "python",
   "nbconvert_exporter": "python",
   "pygments_lexer": "ipython3",
   "version": "3.9.21"
  }
 },
 "nbformat": 4,
 "nbformat_minor": 2
}
