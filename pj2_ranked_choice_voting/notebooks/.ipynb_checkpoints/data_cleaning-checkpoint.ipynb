{
 "cells": [
  {
   "cell_type": "code",
   "execution_count": 263,
   "metadata": {},
   "outputs": [],
   "source": [
    "import pandas as pd\n",
    "from sklearn.preprocessing import OneHotEncoder\n",
    "from sklearn.preprocessing import MultiLabelBinarizer\n",
    "\n",
    "# Read in Google Sheet\n",
    "url = f\"https://docs.google.com/spreadsheets/d/1lUn0GcPchnKEPA6EnSYnC9wZ5hAqXZegj3KEz64sB7I/export?format=csv\"\n",
    "\n",
    "# Establish dataframe\n",
    "data = pd.read_csv(url)\n",
    "\n",
    "data.drop(data.columns[0:15], axis=1, inplace=True) # Drop early columns with unnecessary data\n",
    "data.drop(data.columns[[6, 21]], axis=1, inplace=True) # Drop empty last column and \"religious other\" text\n",
    "data.drop([0], inplace=True) # Drop row with descriptive information\n",
    "data.rename(columns={'UserLanguage.1': 'Q1'}, inplace=True) # Rename column 1"
   ]
  },
  {
   "cell_type": "code",
   "execution_count": 264,
   "metadata": {},
   "outputs": [],
   "source": [
    "#print(data)"
   ]
  },
  {
   "cell_type": "code",
   "execution_count": 265,
   "metadata": {},
   "outputs": [],
   "source": [
    "# Label columns by encoding style\n",
    "binary_cols = ['Q4']\n",
    "one_hot_cols = ['Q1', 'Q3', 'Q6', 'Q9', 'Q12']\n",
    "multi_hot_cols = ['Q5', 'Q17', 'Q18']\n",
    "ordinal_cols = ['Q2', 'Q7', 'Q8', 'Q10', 'Q11', 'Q13', 'Q14', 'Q15', 'Q16', 'Q19', 'Q20']\n",
    "\n",
    "# Copy data set for encoding\n",
    "data_encoded = data"
   ]
  },
  {
   "cell_type": "code",
   "execution_count": 266,
   "metadata": {},
   "outputs": [],
   "source": [
    "# Initialize encoder\n",
    "encoder = OneHotEncoder()\n",
    "\n",
    "# One hot encode all necessary columns\n",
    "for column in one_hot_cols:\n",
    "\n",
    "    # Encode column, convert to array, then to data frame with format matching data_encoded\n",
    "    encoded = encoder.fit_transform(data[[column]])\n",
    "    encoded_array = encoded.toarray()\n",
    "    col_df = pd.DataFrame(encoded_array, columns=encoder.categories_[0], index=data_encoded.index)\n",
    "\n",
    "    # Add encoded column to data frame, drop original column\n",
    "    data_encoded = pd.concat([data_encoded, col_df], axis=1)\n",
    "    data_encoded = data_encoded.drop(columns=[column])"
   ]
  },
  {
   "cell_type": "code",
   "execution_count": 267,
   "metadata": {},
   "outputs": [],
   "source": [
    "#print(data_encoded.head())"
   ]
  },
  {
   "cell_type": "code",
   "execution_count": 268,
   "metadata": {},
   "outputs": [],
   "source": [
    "# Initializer encoder\n",
    "mlb = MultiLabelBinarizer()\n",
    "\n",
    "# Multi hot encode all necessary columns\n",
    "for column in multi_hot_cols:\n",
    "\n",
    "    # Turn empty values into strings with 'NaN' for consistency\n",
    "    data_encoded[column] = data_encoded[column].fillna('NaN')\n",
    "\n",
    "    # Split answers from long strings to lists of all answers selected\n",
    "    col_list = data_encoded[column].str.split(',')\n",
    "\n",
    "    # Encode column and translate to data frame with format matching data_encoded\n",
    "    encoded = mlb.fit_transform(col_list)\n",
    "    col_df = pd.DataFrame(encoded, columns=mlb.classes_, index=data_encoded.index)\n",
    "\n",
    "    # Add encoded column to data frame, drop original column\n",
    "    data_encoded = pd.concat([data_encoded, col_df], axis=1)\n",
    "    data_encoded = data_encoded.drop(columns=[column])"
   ]
  },
  {
   "cell_type": "code",
   "execution_count": 269,
   "metadata": {},
   "outputs": [],
   "source": [
    "#print(data_encoded.head())"
   ]
  },
  {
   "cell_type": "code",
   "execution_count": 270,
   "metadata": {},
   "outputs": [],
   "source": [
    "# Binary encode column\n",
    "data_encoded['Q4'] = data_encoded['Q4'].map({'Married': 1, 'Not married': 0})\n",
    "data.rename(columns={'Q4': 'Married'}, inplace=True) # Rename column 4"
   ]
  },
  {
   "cell_type": "code",
   "execution_count": 271,
   "metadata": {},
   "outputs": [],
   "source": [
    "#print(data_encoded.head())"
   ]
  },
  {
   "cell_type": "code",
   "execution_count": 272,
   "metadata": {},
   "outputs": [],
   "source": [
    "# Ordinal Encoding - done manually\n",
    "\n",
    "# Column 2\n",
    "data_encoded['Q2'] = data_encoded['Q2'].map({'18-24': 1, '25-29': 2, '30-39': 3, '40-49': 4, '50-64': 5, '65+': 6})\n",
    "data.rename(columns={'Q2': 'Age Group'}, inplace=True)\n",
    "\n",
    "# Column 7\n",
    "data_encoded['Q7'] = data_encoded['Q7'].map({'Less than High School': 1, 'High school graduate / GED': 2, 'Some college': 3, '2 year degree': 4, '4 year degree': 5, 'Professional degree': 6, 'Doctorate': 7})\n",
    "data.rename(columns={'Q7': 'Education Level'}, inplace=True)\n",
    "\n",
    "# Column 8\n",
    "data_encoded['Q8'] = data_encoded['Q8'].map({'Less than $30,000': 1, '$30,000-$49,999': 2, '$50,000-$100,000': 3, '$100,000-$199,999': 4, '$200,000 or more': 5})\n",
    "data.rename(columns={'Q8': 'Household Income'}, inplace=True)\n",
    "\n",
    "# Column 10\n",
    "data_encoded['Q10'] = data_encoded['Q10'].map({'Definitely Wrong': 1, 'Somewhat Wrong': 2, 'Unsure': 3, 'Somewhat Right': 4, 'Definitely Right': 5})\n",
    "data.rename(columns={'Q10': 'Direction of US'}, inplace=True)\n",
    "\n",
    "# Column 11\n",
    "data_encoded['Q11'] = data_encoded['Q11'].map({'Definitely Wrong': 1, 'Somewhat Wrong': 2, 'Unsure': 3, 'Somewhat Right': 4, 'Definitely Right': 5})\n",
    "data.rename(columns={'Q11': 'Direction of RI'}, inplace=True)\n",
    "\n",
    "# Column 13\n",
    "data_encoded['Q13'] = data_encoded['Q13'].map({'Not at all Excited': 1, 'Not Very Excited': 2, 'Somewhat Excited': 3, 'Very Excited': 4, 'Extremely Excited': 5})\n",
    "data.rename(columns={'Q13': 'Excitement about vote'}, inplace=True)\n",
    "\n",
    "# Column 14\n",
    "data_encoded['Q14'] = data_encoded['Q14'].map({'Not at All Confident': 1, 'Not Very Confident': 2, 'Unsure': 3, 'Somewhat Confident': 4, 'Very Confident': 5})\n",
    "data.rename(columns={'Q14': 'Confidence in RI Politicians’ Care'}, inplace=True)\n",
    "\n",
    "# Column 15\n",
    "data_encoded['Q15'] = data_encoded['Q15'].map({'Not at All Confident': 1, 'Not Very Confident': 2, 'Unsure': 3, 'Somewhat Confident': 4, 'Very Confident': 5})\n",
    "data.rename(columns={'Q15': 'Confidence in Local Voting Officials’ Election Management'}, inplace=True)\n",
    "\n",
    "# Column 16\n",
    "data_encoded['Q16'] = data_encoded['Q16'].map({'Not at All Confident': 1, 'Not Very Confident': 2, 'Unsure': 3, 'Somewhat Confident': 4, 'Very Confident': 5})\n",
    "data.rename(columns={'Q16': 'Confidence in Accuracy of National Votes Cast'}, inplace=True)\n",
    "\n",
    "# Column 19\n",
    "data_encoded['Q19'] = data_encoded['Q19'].map({'Definitely Not': 1, 'Probably Not': 2, 'I would need more information to make a decision': 3, 'Probably': 4, 'Definitely': 5})\n",
    "data.rename(columns={'Q19': 'Same-Day Voter Registration Support'}, inplace=True)\n",
    "\n",
    "# Column 20\n",
    "data_encoded['Q20'] = data_encoded['Q20'].map({'Definitely Not': 1, 'Probably Not': 2, 'I would need more information to make a decision': 3, 'Probably': 4, 'Definitely': 5})\n",
    "data.rename(columns={'Q20': 'Ranked Choice Voting Support'}, inplace=True)"
   ]
  },
  {
   "cell_type": "code",
   "execution_count": 273,
   "metadata": {},
   "outputs": [],
   "source": [
    "#print(data_encoded.head())"
   ]
  },
  {
   "cell_type": "code",
   "execution_count": 274,
   "metadata": {},
   "outputs": [],
   "source": [
    "# Save data frame as .csv to be opened in analysis notebook\n",
    "data_encoded.to_csv('dataframe.csv', index=False)"
   ]
  }
 ],
 "metadata": {
  "kernelspec": {
   "display_name": "Python 3 (ipykernel)",
   "language": "python",
   "name": "python3"
  },
  "language_info": {
   "codemirror_mode": {
    "name": "ipython",
    "version": 3
   },
   "file_extension": ".py",
   "mimetype": "text/x-python",
   "name": "python",
   "nbconvert_exporter": "python",
   "pygments_lexer": "ipython3",
   "version": "3.11.4"
  }
 },
 "nbformat": 4,
 "nbformat_minor": 4
}
