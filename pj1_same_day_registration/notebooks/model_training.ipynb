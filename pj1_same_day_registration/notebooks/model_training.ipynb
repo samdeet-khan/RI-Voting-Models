{
 "cells": [
  {
   "cell_type": "code",
   "execution_count": 1,
   "metadata": {},
   "outputs": [],
   "source": [
    "from sklearn.preprocessing import StandardScaler\n",
    "import pandas as pd\n",
    "\n",
    "df_cleaned = pd.read_csv('/Users/yzc/Desktop/EVC project/RI-Voting-Models/raw_data/survey_data_cleaned.csv')\n",
    "\n",
    "# Assume ordinal_predictors, binary_predictors, one_hot_predictors, and df_cleaned are defined.\n",
    "ordinal_predictors = ['Q2', 'Q7', 'Q8', 'Q10', 'Q11', 'Q13', 'Q14', 'Q15', 'Q16', 'Q20']\n",
    "binary_predictors = ['Q4']\n",
    "one_hot_predictors = [col for col in df_cleaned.columns if col.startswith('Q1_') \n",
    "                      or col.startswith('Q3_') \n",
    "                      or col.startswith('Q6_') \n",
    "                      or col.startswith('Q9_') \n",
    "                      or col.startswith('Q12_')]\n",
    "\n",
    "# Scale ordinal predictors\n",
    "scaler = StandardScaler()\n",
    "X_ordinal = df_cleaned[ordinal_predictors]\n",
    "X_ordinal_scaled = scaler.fit_transform(X_ordinal)\n",
    "\n",
    "# Convert the scaled ordinal predictors back to a DataFrame\n",
    "X_ordinal_scaled_df = pd.DataFrame(X_ordinal_scaled, columns=ordinal_predictors, index=df_cleaned.index)\n",
    "\n",
    "# Retrieve binary and one-hot predictors (no scaling required for these as they are already 0/1)\n",
    "X_binary = df_cleaned[binary_predictors]\n",
    "X_one_hot = df_cleaned[one_hot_predictors]\n",
    "\n",
    "# Combine all features into a single DataFrame\n",
    "X_combined = pd.concat([X_ordinal_scaled_df, X_binary, X_one_hot], axis=1)\n",
    "\n",
    "# Now X_combined is ready to be used for training your model\n"
   ]
  },
  {
   "cell_type": "code",
   "execution_count": 5,
   "metadata": {},
   "outputs": [
    {
     "name": "stdout",
     "output_type": "stream",
     "text": [
      "Best parameters from GridSearchCV:\n",
      "{'alpha': 1000}\n",
      "Best cross-validation accuracy: 0.5762\n",
      "\n",
      "Test Set Accuracy: 0.6071\n",
      "Test Set Weighted F1 Score: 0.5137\n",
      "\n",
      "Classification Report:\n",
      "              precision    recall  f1-score   support\n",
      "\n",
      "           0       0.00      0.00      0.00         3\n",
      "           1       0.00      0.00      0.00         7\n",
      "           2       0.00      0.00      0.00         7\n",
      "           3       0.00      0.00      0.00        12\n",
      "           4       0.14      0.14      0.14        14\n",
      "           5       0.69      0.96      0.80        69\n",
      "\n",
      "    accuracy                           0.61       112\n",
      "   macro avg       0.14      0.18      0.16       112\n",
      "weighted avg       0.45      0.61      0.51       112\n",
      "\n"
     ]
    },
    {
     "name": "stderr",
     "output_type": "stream",
     "text": [
      "/opt/anaconda3/envs/ri_voting/lib/python3.13/site-packages/sklearn/metrics/_classification.py:1565: UndefinedMetricWarning: Precision is ill-defined and being set to 0.0 in labels with no predicted samples. Use `zero_division` parameter to control this behavior.\n",
      "  _warn_prf(average, modifier, f\"{metric.capitalize()} is\", len(result))\n",
      "/opt/anaconda3/envs/ri_voting/lib/python3.13/site-packages/sklearn/metrics/_classification.py:1565: UndefinedMetricWarning: Precision is ill-defined and being set to 0.0 in labels with no predicted samples. Use `zero_division` parameter to control this behavior.\n",
      "  _warn_prf(average, modifier, f\"{metric.capitalize()} is\", len(result))\n",
      "/opt/anaconda3/envs/ri_voting/lib/python3.13/site-packages/sklearn/metrics/_classification.py:1565: UndefinedMetricWarning: Precision is ill-defined and being set to 0.0 in labels with no predicted samples. Use `zero_division` parameter to control this behavior.\n",
      "  _warn_prf(average, modifier, f\"{metric.capitalize()} is\", len(result))\n"
     ]
    }
   ],
   "source": [
    "import pandas as pd\n",
    "import numpy as np\n",
    "import mord\n",
    "from sklearn.model_selection import train_test_split, GridSearchCV\n",
    "from sklearn.metrics import accuracy_score, f1_score, classification_report\n",
    "\n",
    "np.int = int \n",
    "\n",
    "X = X_combined\n",
    "y = df_cleaned['Q19']\n",
    "\n",
    "# Split the dataset into training (80%) and test (20%)\n",
    "X_train, X_test, y_train, y_test = train_test_split(X, y, test_size=0.20, random_state=42)\n",
    "\n",
    "# Initialize the ordinal logistic regression model from mord\n",
    "model = mord.LogisticAT()\n",
    "\n",
    "# Define a parameter grid for the regularization strength\n",
    "param_grid = {'alpha': [0.001, 0.01, 0.1, 1.0, 10.0, 100, 1000]}\n",
    "\n",
    "# Perform 5-fold cross-validation on the training set to fine-tune model parameters\n",
    "grid_search = GridSearchCV(model, param_grid, cv=5, scoring='accuracy')\n",
    "grid_search.fit(X_train, y_train)\n",
    "\n",
    "print(\"Best parameters from GridSearchCV:\")\n",
    "print(grid_search.best_params_)\n",
    "print(\"Best cross-validation accuracy: {:.4f}\".format(grid_search.best_score_))\n",
    "\n",
    "# Retrieve the best model from grid search\n",
    "best_model = grid_search.best_estimator_\n",
    "\n",
    "# Apply the final model to the test set\n",
    "y_pred = best_model.predict(X_test)\n",
    "\n",
    "# Evaluate model performance on the test set\n",
    "accuracy = accuracy_score(y_test, y_pred)\n",
    "f1 = f1_score(y_test, y_pred, average='weighted')\n",
    "\n",
    "print(\"\\nTest Set Accuracy: {:.4f}\".format(accuracy))\n",
    "print(\"Test Set Weighted F1 Score: {:.4f}\".format(f1))\n",
    "print(\"\\nClassification Report:\")\n",
    "print(classification_report(y_test, y_pred))\n"
   ]
  }
 ],
 "metadata": {
  "kernelspec": {
   "display_name": "ri_voting",
   "language": "python",
   "name": "python3"
  },
  "language_info": {
   "codemirror_mode": {
    "name": "ipython",
    "version": 3
   },
   "file_extension": ".py",
   "mimetype": "text/x-python",
   "name": "python",
   "nbconvert_exporter": "python",
   "pygments_lexer": "ipython3",
   "version": "3.13.2"
  }
 },
 "nbformat": 4,
 "nbformat_minor": 2
}
